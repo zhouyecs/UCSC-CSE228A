{
 "cells": [
  {
   "cell_type": "markdown",
   "id": "9ca82c4d-7ebb-42d1-8976-a3cec7b92adb",
   "metadata": {
    "deletable": false,
    "editable": false,
    "nbgrader": {
     "cell_type": "markdown",
     "checksum": "a0f3da7949b7e3b352257024327de74f",
     "grade": false,
     "grade_id": "name-header",
     "locked": true,
     "schema_version": 3,
     "solution": false,
     "task": false
    }
   },
   "source": [
    "Before you turn this lab in, make sure everything runs as expected. First, **restart the kernel** (in the menubar, select Kernel$\\rightarrow$Restart) and then **run all cells** (in the menubar, select Cell$\\rightarrow$Run All).\n",
    "\n",
    "Make sure you fill in any place that says `YOUR CODE HERE` or \"YOUR ANSWER HERE\".\n",
    "\n",
    "**Provide your name and any collaborators below:**"
   ]
  },
  {
   "cell_type": "code",
   "execution_count": 0,
   "id": "c06e41a2-fc18-4ea6-b3d9-6585e86c3bbb",
   "metadata": {
    "deletable": false,
    "nbgrader": {
     "cell_type": "code",
     "checksum": "5fad56801fa7f1d09a1bd5d842e38b50",
     "grade": true,
     "grade_id": "name-collabs",
     "locked": false,
     "points": 0,
     "schema_version": 3,
     "solution": true,
     "task": false
    }
   },
   "outputs": [],
   "source": [
    "// YOUR CODE HERE\n",
    "// Zhou Ye"
   ]
  },
  {
   "cell_type": "markdown",
   "id": "knowing-summit",
   "metadata": {
    "cell_style": "center",
    "deletable": false,
    "editable": false,
    "nbgrader": {
     "cell_type": "markdown",
     "checksum": "b43d753a1f1d49773f212d51fa3e61ae",
     "grade": false,
     "grade_id": "header",
     "locked": true,
     "schema_version": 3,
     "solution": false,
     "task": false
    },
    "slideshow": {
     "slide_type": "slide"
    }
   },
   "source": [
    "# Lab 5 - Inheritence\n",
    "> Labs will be due each week before the homework. They are not intended take a significant amount of time but rather to provide examples/practice on specific and isolated features in the language. Labs are autograded so you can get quick feedback."
   ]
  },
  {
   "cell_type": "markdown",
   "id": "listed-window",
   "metadata": {
    "deletable": false,
    "editable": false,
    "nbgrader": {
     "cell_type": "markdown",
     "checksum": "9f555f0f7ac7048748fcf1a467a08721",
     "grade": false,
     "grade_id": "imports-header",
     "locked": true,
     "schema_version": 3,
     "solution": false,
     "task": false
    }
   },
   "source": [
    "### Import the necessary Chisel dependencies. \n",
    "> There will be a cell like this in every lab. Make sure you run it before proceeding to bring the Chisel Library into the Jupyter Notebook scope!"
   ]
  },
  {
   "cell_type": "code",
   "execution_count": 1,
   "id": "bored-final",
   "metadata": {
    "deletable": false,
    "editable": false,
    "nbgrader": {
     "cell_type": "code",
     "checksum": "4b2df45a1a068e28c4eb74c45b53774e",
     "grade": false,
     "grade_id": "imports1",
     "locked": true,
     "schema_version": 3,
     "solution": false,
     "task": false
    }
   },
   "outputs": [],
   "source": [
    "interp.load.module(os.Path(s\"${System.getProperty(\"user.dir\")}/resource/chisel_deps.sc\"))"
   ]
  },
  {
   "cell_type": "code",
   "execution_count": 2,
   "id": "adaptive-canon",
   "metadata": {
    "deletable": false,
    "editable": false,
    "nbgrader": {
     "cell_type": "code",
     "checksum": "901d9fdacbe59a9692672c167d68ce88",
     "grade": false,
     "grade_id": "imports",
     "locked": true,
     "schema_version": 3,
     "solution": false,
     "task": false
    }
   },
   "outputs": [
    {
     "data": {
      "text/plain": [
       "\u001b[32mimport \u001b[39m\u001b[36mchisel3._\n",
       "\u001b[39m\n",
       "\u001b[32mimport \u001b[39m\u001b[36mchisel3.util._\n",
       "\u001b[39m\n",
       "\u001b[32mimport \u001b[39m\u001b[36mchiseltest._\n",
       "\u001b[39m\n",
       "\u001b[32mimport \u001b[39m\u001b[36mchiseltest.RawTester.test\u001b[39m"
      ]
     },
     "execution_count": 2,
     "metadata": {},
     "output_type": "execute_result"
    }
   ],
   "source": [
    "import chisel3._\n",
    "import chisel3.util._\n",
    "import chiseltest._\n",
    "import chiseltest.RawTester.test"
   ]
  },
  {
   "cell_type": "markdown",
   "id": "faced-verification",
   "metadata": {
    "deletable": false,
    "editable": false,
    "nbgrader": {
     "cell_type": "markdown",
     "checksum": "44c5a5b7e251abab0a6ea26186024af6",
     "grade": false,
     "grade_id": "prob1-header",
     "locked": true,
     "schema_version": 3,
     "solution": false,
     "task": false
    },
    "tags": []
   },
   "source": [
    "## Problem 1 (6 pts) - Method Templated for Chisel Types\n",
    "> Write a generic `connect` method that takes in two generic arguments `a` and `b` of type `chisel3.Data` and connects `a` (input) to `b` (output)."
   ]
  },
  {
   "cell_type": "code",
   "execution_count": 3,
   "id": "electric-number",
   "metadata": {
    "deletable": false,
    "nbgrader": {
     "cell_type": "code",
     "checksum": "b03438d7319eb5de22b8a7173c4739a6",
     "grade": false,
     "grade_id": "prob1",
     "locked": false,
     "schema_version": 3,
     "solution": true,
     "task": false
    },
    "tags": []
   },
   "outputs": [
    {
     "data": {
      "text/plain": [
       "defined \u001b[32mfunction\u001b[39m \u001b[36mconnect\u001b[39m"
      ]
     },
     "execution_count": 3,
     "metadata": {},
     "output_type": "execute_result"
    }
   ],
   "source": [
    "// YOUR CODE HERE\n",
    "def connect[T <: Data](b: T, a: T): Unit = {\n",
    "    b := a\n",
    "}"
   ]
  },
  {
   "cell_type": "code",
   "execution_count": 4,
   "id": "virtual-organization",
   "metadata": {
    "deletable": false,
    "editable": false,
    "nbgrader": {
     "cell_type": "code",
     "checksum": "c8e6ab1151c24959e142b94433d28303",
     "grade": true,
     "grade_id": "prob1-test",
     "locked": true,
     "points": 6,
     "schema_version": 3,
     "solution": false,
     "task": false
    },
    "tags": []
   },
   "outputs": [
    {
     "data": {
      "text/plain": [
       "defined \u001b[32mclass\u001b[39m \u001b[36mTestConnect\u001b[39m\n",
       "defined \u001b[32mfunction\u001b[39m \u001b[36mtestConnect\u001b[39m"
      ]
     },
     "execution_count": 4,
     "metadata": {},
     "output_type": "execute_result"
    }
   ],
   "source": [
    "class TestConnect extends Module {\n",
    "    val io = IO(new Bundle {\n",
    "        val u = Output(UInt())\n",
    "        val s = Output(SInt())\n",
    "    })\n",
    "     \n",
    "    connect(io.u, 10.U)\n",
    "    connect(io.s, -10.S)\n",
    "}\n",
    "\n",
    "def testConnect: Boolean = {\n",
    "    test(new TestConnect) { dut =>\n",
    "        dut.io.u.expect(10.U)\n",
    "        dut.io.s.expect(-10.S)\n",
    "    }\n",
    "    true\n",
    "}\n",
    "assert(testConnect)"
   ]
  },
  {
   "cell_type": "markdown",
   "id": "rural-nation",
   "metadata": {
    "deletable": false,
    "editable": false,
    "nbgrader": {
     "cell_type": "markdown",
     "checksum": "fdb65bdf7d787dd370f7fad4583cf75f",
     "grade": false,
     "grade_id": "prob2-header",
     "locked": true,
     "schema_version": 3,
     "solution": false,
     "task": false
    },
    "tags": []
   },
   "source": [
    "## Problem 2 (8 pts) - Case Class pattern matching and traits\n",
    "> Fill in the body of `ProcessRequest` using pattern matching to translate a requested `MealItem` into a more descriptive string. The meal items are case classes inheriting from MealItem. You can infer what the strings should be by looking at the following testcases."
   ]
  },
  {
   "cell_type": "code",
   "execution_count": 5,
   "id": "57a5ab20-d1e6-475b-902c-d686c795d209",
   "metadata": {
    "deletable": false,
    "nbgrader": {
     "cell_type": "code",
     "checksum": "32943ebb5af0b447225122d665c802f4",
     "grade": false,
     "grade_id": "prob2",
     "locked": false,
     "schema_version": 3,
     "solution": true,
     "task": false
    },
    "tags": []
   },
   "outputs": [
    {
     "data": {
      "text/plain": [
       "defined \u001b[32mclass\u001b[39m \u001b[36mMealItem\u001b[39m\n",
       "defined \u001b[32mclass\u001b[39m \u001b[36mDrink\u001b[39m\n",
       "defined \u001b[32mclass\u001b[39m \u001b[36mBurger\u001b[39m\n",
       "defined \u001b[32mobject\u001b[39m \u001b[36mFries\u001b[39m\n",
       "defined \u001b[32mfunction\u001b[39m \u001b[36mProcessRequest\u001b[39m\n",
       "defined \u001b[32mfunction\u001b[39m \u001b[36mProcessOrder\u001b[39m"
      ]
     },
     "execution_count": 5,
     "metadata": {},
     "output_type": "execute_result"
    }
   ],
   "source": [
    "abstract class MealItem\n",
    "\n",
    "case class Drink(variety: String) extends MealItem\n",
    "\n",
    "case class Burger(withCheese: Boolean) extends MealItem\n",
    "\n",
    "case object Fries extends MealItem\n",
    "\n",
    "def ProcessRequest(request: MealItem): String = {\n",
    "    request match {\n",
    "        // YOUR CODE HERE\n",
    "        case Drink(\"water\") => \"Water is healthy\"\n",
    "        case Drink(\"soda\")  => \"Soda is refreshing\"\n",
    "        case Burger(true)   => \"Mmm... cheeseburger\"\n",
    "        case Burger(false)  => \"Mmm... plain hamburger\"\n",
    "        case Fries          => \"Fries were a good decision\"\n",
    "        case _              => s\"Couldn't match $request\"\n",
    "    }\n",
    "}\n",
    "\n",
    "def ProcessOrder(order: Seq[MealItem]) {\n",
    "    order foreach { item => println(ProcessRequest(item)) }\n",
    "}"
   ]
  },
  {
   "cell_type": "code",
   "execution_count": 6,
   "id": "f6e125aa-783e-4449-a207-a99e9a31adcd",
   "metadata": {
    "deletable": false,
    "editable": false,
    "nbgrader": {
     "cell_type": "code",
     "checksum": "14c77da8478fb25d3de5f0ac445e2ff3",
     "grade": true,
     "grade_id": "prob2-tests",
     "locked": true,
     "points": 8,
     "schema_version": 3,
     "solution": false,
     "task": false
    },
    "tags": []
   },
   "outputs": [],
   "source": [
    "assert (ProcessRequest(Drink(\"water\")) == \"Water is healthy\", \"water\")\n",
    "\n",
    "assert (ProcessRequest(Drink(\"soda\")) == \"Soda is refreshing\", \"soda\")\n",
    "\n",
    "assert (ProcessRequest(Burger(true)) == \"Mmm... cheeseburger\", \"cheeseburger\")\n",
    "\n",
    "assert (ProcessRequest(Burger(false)) == \"Mmm... plain hamburger\", \"hamburger\")\n",
    "\n",
    "assert (ProcessRequest(Fries) == \"Fries were a good decision\", \"fries\")\n",
    "\n",
    "assert (ProcessRequest(Drink(\"special request\")) == \"Couldn't match Drink(special request)\", \"other\")"
   ]
  },
  {
   "cell_type": "markdown",
   "id": "fundamental-alberta",
   "metadata": {
    "deletable": false,
    "editable": false,
    "nbgrader": {
     "cell_type": "markdown",
     "checksum": "26fa357436e0c235026e3457063c7bea",
     "grade": false,
     "grade_id": "prob6-header",
     "locked": true,
     "schema_version": 3,
     "solution": false,
     "task": false
    }
   },
   "source": [
    "## Problem 3 (11 pts) - Chisel trait\n",
    "> Fill in the missing fields in the `DbgCounter` trait. The purpose of this trait is to add a debug counter that prints out the current cycle if the `debug` input (Bool) is true. The trait should add an output `count` (UInt) representing the debug counter. _Hint:_ peek at the test case to infer signal names and data types."
   ]
  },
  {
   "cell_type": "code",
   "execution_count": 7,
   "id": "interesting-resource",
   "metadata": {
    "deletable": false,
    "nbgrader": {
     "cell_type": "code",
     "checksum": "b482b008eb64ea0c8329a04b5f8424f5",
     "grade": false,
     "grade_id": "prob6",
     "locked": false,
     "schema_version": 3,
     "solution": true,
     "task": false
    }
   },
   "outputs": [
    {
     "data": {
      "text/plain": [
       "defined \u001b[32mtrait\u001b[39m \u001b[36mDbgCounter\u001b[39m"
      ]
     },
     "execution_count": 7,
     "metadata": {},
     "output_type": "execute_result"
    }
   ],
   "source": [
    "trait DbgCounter extends Module {\n",
    "    // YOUR CODE HERE\n",
    "    val debug = IO(Input(Bool()))\n",
    "    val count = IO(Output(UInt(8.W)))\n",
    "    def n : Int\n",
    "    val (cnt, wrap) = Counter(true.B, n)\n",
    "    count := cnt\n",
    "    when (debug) {\n",
    "        printf(\"%d\\n\", count)\n",
    "    }\n",
    "}"
   ]
  },
  {
   "cell_type": "code",
   "execution_count": 8,
   "id": "usual-syndication",
   "metadata": {
    "deletable": false,
    "editable": false,
    "nbgrader": {
     "cell_type": "code",
     "checksum": "032a392234edd023257530a524914e38",
     "grade": true,
     "grade_id": "prob6-tests",
     "locked": true,
     "points": 11,
     "schema_version": 3,
     "solution": false,
     "task": false
    }
   },
   "outputs": [
    {
     "name": "stdout",
     "output_type": "stream",
     "text": [
      "   0\n",
      "   1\n",
      "   2\n",
      "   3\n",
      "   4\n"
     ]
    },
    {
     "data": {
      "text/plain": [
       "defined \u001b[32mclass\u001b[39m \u001b[36mTestMod\u001b[39m\n",
       "defined \u001b[32mfunction\u001b[39m \u001b[36mtestDbgCounter\u001b[39m"
      ]
     },
     "execution_count": 8,
     "metadata": {},
     "output_type": "execute_result"
    }
   ],
   "source": [
    "class TestMod(maxCycles: Int) extends Module with DbgCounter {\n",
    "   def n = maxCycles \n",
    "}\n",
    "\n",
    "def testDbgCounter(n: Int, printDbg: Boolean): Boolean = {\n",
    "    test(new TestMod(n)) { dut =>\n",
    "        dut.debug.poke(printDbg.B)\n",
    "        for (i <- 0 until n) { \n",
    "            dut.count.expect(i.U)\n",
    "            dut.clock.step()\n",
    "        }\n",
    "        // test that counter wraps\n",
    "        dut.count.expect(0.U)\n",
    "    }\n",
    "    true\n",
    "}\n",
    "\n",
    "assert(testDbgCounter(n=5, true))\n",
    "assert(testDbgCounter(n=15, false))"
   ]
  }
 ],
 "metadata": {
  "kernelspec": {
   "display_name": "Scala",
   "language": "scala",
   "name": "scala"
  },
  "language_info": {
   "codemirror_mode": "text/x-scala",
   "file_extension": ".sc",
   "mimetype": "text/x-scala",
   "name": "scala",
   "nbconvert_exporter": "script",
   "version": "2.13.10"
  }
 },
 "nbformat": 4,
 "nbformat_minor": 5
}
