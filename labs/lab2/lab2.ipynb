{
 "cells": [
  {
   "cell_type": "markdown",
   "id": "3bbcd736-d66c-46fa-bea7-c2d8b95875ab",
   "metadata": {
    "deletable": false,
    "editable": false,
    "nbgrader": {
     "cell_type": "markdown",
     "checksum": "a0f3da7949b7e3b352257024327de74f",
     "grade": false,
     "grade_id": "name-header",
     "locked": true,
     "schema_version": 3,
     "solution": false,
     "task": false
    }
   },
   "source": [
    "Before you turn this lab in, make sure everything runs as expected. First, **restart the kernel** (in the menubar, select Kernel$\\rightarrow$Restart) and then **run all cells** (in the menubar, select Cell$\\rightarrow$Run All).\n",
    "\n",
    "Make sure you fill in any place that says `YOUR CODE HERE` or \"YOUR ANSWER HERE\".\n",
    "\n",
    "**Provide your name and any collaborators below:**"
   ]
  },
  {
   "cell_type": "markdown",
   "id": "63b2e09c-5aff-419f-8ae9-0b764ae4be9e",
   "metadata": {
    "deletable": false,
    "nbgrader": {
     "cell_type": "markdown",
     "checksum": "14d52740faa5ccc0b543add03d8ebf6b",
     "grade": true,
     "grade_id": "name-collabs",
     "locked": false,
     "points": 0,
     "schema_version": 3,
     "solution": true,
     "task": false
    }
   },
   "source": [
    "YOUR ANSWER HERE"
   ]
  },
  {
   "cell_type": "markdown",
   "id": "thick-battery",
   "metadata": {
    "cell_style": "center",
    "deletable": false,
    "editable": false,
    "nbgrader": {
     "cell_type": "markdown",
     "checksum": "83af090313da5c3471fc4a823926590d",
     "grade": false,
     "grade_id": "header",
     "locked": true,
     "schema_version": 3,
     "solution": false,
     "task": false
    },
    "slideshow": {
     "slide_type": "slide"
    }
   },
   "source": [
    "# Lab 2 Sequential Logic\n",
    "> Labs will be due each week before the homework. They are not intended take a significant amount of time but rather to provide examples/practice on specific and isolated features in the language. Labs are autograded so you can get quick feedback."
   ]
  },
  {
   "cell_type": "markdown",
   "id": "dramatic-checklist",
   "metadata": {
    "deletable": false,
    "editable": false,
    "nbgrader": {
     "cell_type": "markdown",
     "checksum": "9f555f0f7ac7048748fcf1a467a08721",
     "grade": false,
     "grade_id": "imports-header",
     "locked": true,
     "schema_version": 3,
     "solution": false,
     "task": false
    }
   },
   "source": [
    "### Import the necessary Chisel dependencies. \n",
    "> There will be a cell like this in every lab. Make sure you run it before proceeding to bring the Chisel Library into the Jupyter Notebook scope!"
   ]
  },
  {
   "cell_type": "code",
   "execution_count": 1,
   "id": "imposed-egypt",
   "metadata": {
    "deletable": false,
    "editable": false,
    "nbgrader": {
     "cell_type": "code",
     "checksum": "4b2df45a1a068e28c4eb74c45b53774e",
     "grade": false,
     "grade_id": "imports1",
     "locked": true,
     "schema_version": 3,
     "solution": false,
     "task": false
    }
   },
   "outputs": [
    {
     "name": "stdout",
     "output_type": "stream",
     "text": [
      "Compiling /home/zhouye/yz/csdiy/UCSC-CSE228A/labs/lab2/Main.sc"
     ]
    }
   ],
   "source": [
    "interp.load.module(os.Path(s\"${System.getProperty(\"user.dir\")}/resource/chisel_deps.sc\"))"
   ]
  },
  {
   "cell_type": "code",
   "execution_count": 2,
   "id": "respiratory-board",
   "metadata": {
    "deletable": false,
    "editable": false,
    "nbgrader": {
     "cell_type": "code",
     "checksum": "901d9fdacbe59a9692672c167d68ce88",
     "grade": false,
     "grade_id": "imports",
     "locked": true,
     "schema_version": 3,
     "solution": false,
     "task": false
    }
   },
   "outputs": [
    {
     "data": {
      "text/plain": [
       "\u001b[32mimport \u001b[39m\u001b[36mchisel3._\n",
       "\u001b[39m\n",
       "\u001b[32mimport \u001b[39m\u001b[36mchisel3.util._\n",
       "\u001b[39m\n",
       "\u001b[32mimport \u001b[39m\u001b[36mchiseltest._\n",
       "\u001b[39m\n",
       "\u001b[32mimport \u001b[39m\u001b[36mchiseltest.RawTester.test\u001b[39m"
      ]
     },
     "execution_count": 2,
     "metadata": {},
     "output_type": "execute_result"
    }
   ],
   "source": [
    "import chisel3._\n",
    "import chisel3.util._\n",
    "import chiseltest._\n",
    "import chiseltest.RawTester.test"
   ]
  },
  {
   "cell_type": "markdown",
   "id": "sharp-desperate",
   "metadata": {
    "deletable": false,
    "editable": false,
    "nbgrader": {
     "cell_type": "markdown",
     "checksum": "2e18601908f9b79b143461ca283ebc9d",
     "grade": false,
     "grade_id": "register-header",
     "locked": true,
     "schema_version": 3,
     "solution": false,
     "task": false
    }
   },
   "source": [
    "## Problem 1 (2 pts) - State\n",
    "> We can use registers to store state across multiple cycles. In Chisel, to build registers we use `Reg` as well as `RegNext` and `RegInit` ([more info](https://www.chisel-lang.org/chisel3/docs/explanations/sequential-circuits.html)). Fill in the `Delay2` module such that `out` signal is equal to the `in` signal delayed by 2 cycles."
   ]
  },
  {
   "cell_type": "code",
   "execution_count": 5,
   "id": "damaged-asbestos",
   "metadata": {
    "deletable": false,
    "nbgrader": {
     "cell_type": "code",
     "checksum": "2510ffc5837458a4086ba03c17f22c91",
     "grade": false,
     "grade_id": "delay2",
     "locked": false,
     "schema_version": 3,
     "solution": true,
     "task": false
    }
   },
   "outputs": [
    {
     "data": {
      "text/plain": [
       "defined \u001b[32mclass\u001b[39m \u001b[36mDelay2\u001b[39m"
      ]
     },
     "execution_count": 5,
     "metadata": {},
     "output_type": "execute_result"
    }
   ],
   "source": [
    "class Delay2 extends Module {\n",
    "    val io = IO(new Bundle {\n",
    "        val in  = Input(UInt(5.W))\n",
    "        val out = Output(UInt(5.W))\n",
    "    })\n",
    "    \n",
    "    // YOUR CODE HERE\n",
    "    val delay1 = Reg(UInt(5.W))\n",
    "    val delay2 = Reg(UInt(5.W))\n",
    "    delay1 := io.in\n",
    "    delay2 := delay1\n",
    "    io.out := delay2\n",
    "}"
   ]
  },
  {
   "cell_type": "code",
   "execution_count": 6,
   "id": "embedded-division",
   "metadata": {
    "deletable": false,
    "editable": false,
    "nbgrader": {
     "cell_type": "code",
     "checksum": "f1f9a1d618da2416d2a5289d75b86521",
     "grade": true,
     "grade_id": "test-delay2",
     "locked": true,
     "points": 2,
     "schema_version": 3,
     "solution": false,
     "task": false
    }
   },
   "outputs": [
    {
     "data": {
      "text/plain": [
       "defined \u001b[32mfunction\u001b[39m \u001b[36mtestDelay2\u001b[39m"
      ]
     },
     "execution_count": 6,
     "metadata": {},
     "output_type": "execute_result"
    }
   ],
   "source": [
    "def testDelay2: Boolean = {\n",
    "    test(new Delay2) { dut =>\n",
    "        // Cycle0\n",
    "        dut.io.in.poke(5.U)\n",
    "        dut.io.out.expect(0.U)\n",
    "        dut.clock.step(1)\n",
    "\n",
    "        // Cycle1\n",
    "        dut.io.in.poke(4.U)\n",
    "        dut.io.out.expect(0.U)\n",
    "        dut.clock.step(1)\n",
    "\n",
    "        // Cycle2\n",
    "        dut.io.in.poke(3.U)\n",
    "        dut.io.out.expect(5.U)\n",
    "        dut.clock.step(1)\n",
    "\n",
    "        // Cycle3\n",
    "        dut.io.out.expect(4.U)\n",
    "        dut.clock.step(1)\n",
    "\n",
    "        // Cycle4\n",
    "        dut.io.out.expect(3.U)\n",
    "        dut.clock.step(1)\n",
    "    }\n",
    "    true\n",
    "}\n",
    "assert(testDelay2)"
   ]
  },
  {
   "cell_type": "markdown",
   "id": "unlike-novelty",
   "metadata": {
    "deletable": false,
    "editable": false,
    "nbgrader": {
     "cell_type": "markdown",
     "checksum": "a96f741f0e1ab10e5e401e45cc01efee",
     "grade": false,
     "grade_id": "accum-header",
     "locked": true,
     "schema_version": 3,
     "solution": false,
     "task": false
    }
   },
   "source": [
    "## Problem 2 (3 pts) - Accumulator\n",
    "> Let's build an _accumulator_. Each cycle `en` is high, it will add `in` to it's internal total. The internal total is visible as the output `out`. The internal total should initialize to 0 on reset."
   ]
  },
  {
   "cell_type": "code",
   "execution_count": 9,
   "id": "relative-simulation",
   "metadata": {
    "deletable": false,
    "nbgrader": {
     "cell_type": "code",
     "checksum": "a524d73d5a1264e27c9fa8f5158e2e87",
     "grade": false,
     "grade_id": "Accumulator",
     "locked": false,
     "schema_version": 3,
     "solution": true,
     "task": false
    }
   },
   "outputs": [
    {
     "data": {
      "text/plain": [
       "defined \u001b[32mclass\u001b[39m \u001b[36mAccumulator\u001b[39m"
      ]
     },
     "execution_count": 9,
     "metadata": {},
     "output_type": "execute_result"
    }
   ],
   "source": [
    "class Accumulator(w: Int) extends Module {\n",
    "    val io = IO(new Bundle {\n",
    "        val in  = Input(UInt(w.W))\n",
    "        val en  = Input(Bool())\n",
    "        val out = Output(UInt(w.W))\n",
    "    })\n",
    "    \n",
    "    // YOUR CODE HERE\n",
    "    io.out := RegEnable(io.out + io.in, 0.U, io.en)\n",
    "}"
   ]
  },
  {
   "cell_type": "code",
   "execution_count": 10,
   "id": "trained-tuition",
   "metadata": {
    "deletable": false,
    "editable": false,
    "nbgrader": {
     "cell_type": "code",
     "checksum": "9ca74ffa35a947b0de69c0ef001131d0",
     "grade": true,
     "grade_id": "test-accumulator",
     "locked": true,
     "points": 3,
     "schema_version": 3,
     "solution": false,
     "task": false
    }
   },
   "outputs": [
    {
     "data": {
      "text/plain": [
       "defined \u001b[32mfunction\u001b[39m \u001b[36mtestAccumulator\u001b[39m"
      ]
     },
     "execution_count": 10,
     "metadata": {},
     "output_type": "execute_result"
    }
   ],
   "source": [
    "def testAccumulator: Boolean = {\n",
    "    test(new Accumulator(4)) { dut =>\n",
    "        // Cycle 0\n",
    "        dut.io.in.poke(0.U)\n",
    "        dut.io.en.poke(0.B)\n",
    "        dut.clock.step(1)\n",
    "        dut.io.out.expect(0.U)\n",
    "\n",
    "        // Cycle 1\n",
    "        dut.io.in.poke(0.U)\n",
    "        dut.io.en.poke(0.B)\n",
    "        dut.clock.step(1)\n",
    "        dut.io.out.expect(0.U)\n",
    "\n",
    "        // Cycle 2\n",
    "        dut.io.in.poke(3.U)\n",
    "        dut.io.en.poke(0.B)\n",
    "        dut.clock.step(1)\n",
    "        dut.io.out.expect(0.U)\n",
    "\n",
    "        // Cycle 3\n",
    "        dut.io.in.poke(3.U)\n",
    "        dut.io.en.poke(1.B)\n",
    "        dut.clock.step(1)\n",
    "        dut.io.out.expect(3.U)\n",
    "\n",
    "        // Cycle 3\n",
    "        dut.io.in.poke(4.U)\n",
    "        dut.io.en.poke(1.B)\n",
    "        dut.clock.step(1)\n",
    "        dut.io.out.expect(7.U)        \n",
    "    }\n",
    "    true\n",
    "}\n",
    "assert(testAccumulator)"
   ]
  },
  {
   "cell_type": "markdown",
   "id": "exposed-combination",
   "metadata": {
    "deletable": false,
    "editable": false,
    "nbgrader": {
     "cell_type": "markdown",
     "checksum": "de1c5f51f618103e8e519c527afd9c83",
     "grade": false,
     "grade_id": "cell-4310bf1dd699ea36",
     "locked": true,
     "schema_version": 3,
     "solution": false,
     "task": false
    }
   },
   "source": [
    "## Problem 3 (4 pts) - Scala Loops\n",
    "> To familiarize ourselves with looping in Scala, we will attempt a variant of the game [_Fizz buzz_](https://en.wikipedia.org/wiki/Fizz_buzz):\n",
    "\n",
    "* _*Count*_ from 1 until `max` (exclusive)\n",
    "* Maintain three sums: `fizz`, `buzz`, and `fizzbuzz`\n",
    "* If the current count is divisible by ...\n",
    "    * _15_ $\\rightarrow$ add count to `fizzbuzz`\n",
    "    * _5_ $\\rightarrow$ add count to `buzz`\n",
    "    * _3_ $\\rightarrow$ add count to `fizz`\n",
    "    * Add to the sums with the precedence rules given, so for example, if the count is _15_, only add to `fizzbuzz`."
   ]
  },
  {
   "cell_type": "code",
   "execution_count": 17,
   "id": "coupled-personal",
   "metadata": {
    "deletable": false,
    "nbgrader": {
     "cell_type": "code",
     "checksum": "42cd82189dad27ed01672b7977fbac52",
     "grade": false,
     "grade_id": "fizzbuzz",
     "locked": false,
     "schema_version": 3,
     "solution": true,
     "task": false
    }
   },
   "outputs": [
    {
     "name": "stdout",
     "output_type": "stream",
     "text": [
      "fizz: 0, buzz: 0, fizzbuzz: 0\n",
      "fizz: 5, buzz: 3, fizzbuzz: 1\n",
      "fizz: 9, buzz: 5, fizzbuzz: 2\n"
     ]
    },
    {
     "data": {
      "text/plain": [
       "defined \u001b[32mfunction\u001b[39m \u001b[36mfizzbuzz\u001b[39m\n",
       "\u001b[36mres16_1\u001b[39m: (\u001b[32mInt\u001b[39m, \u001b[32mInt\u001b[39m, \u001b[32mInt\u001b[39m) = (\u001b[32m0\u001b[39m, \u001b[32m0\u001b[39m, \u001b[32m0\u001b[39m)\n",
       "\u001b[36mres16_2\u001b[39m: (\u001b[32mInt\u001b[39m, \u001b[32mInt\u001b[39m, \u001b[32mInt\u001b[39m) = (\u001b[32m5\u001b[39m, \u001b[32m3\u001b[39m, \u001b[32m1\u001b[39m)\n",
       "\u001b[36mres16_3\u001b[39m: (\u001b[32mInt\u001b[39m, \u001b[32mInt\u001b[39m, \u001b[32mInt\u001b[39m) = (\u001b[32m9\u001b[39m, \u001b[32m5\u001b[39m, \u001b[32m2\u001b[39m)"
      ]
     },
     "execution_count": 17,
     "metadata": {},
     "output_type": "execute_result"
    }
   ],
   "source": [
    "def fizzbuzz(max: Int): (Int, Int, Int) = {\n",
    "    var (fizz, buzz, fizzbuzz) = (0, 0, 0)\n",
    "\n",
    "    // YOUR CODE HERE\n",
    "    for (i <- 1 to max) {\n",
    "        if (i % 3 == 0 && i % 5 == 0) {\n",
    "            fizzbuzz += 1\n",
    "        } else if (i % 3 == 0) {\n",
    "            fizz += 1\n",
    "        } else if (i % 5 == 0) {\n",
    "            buzz += 1\n",
    "        }\n",
    "    }\n",
    "    println(s\"fizz: $fizz, buzz: $buzz, fizzbuzz: $fizzbuzz\")\n",
    "    (fizz, buzz, fizzbuzz)\n",
    "}\n",
    "\n",
    "fizzbuzz(2)\n",
    "fizzbuzz(20)\n",
    "fizzbuzz(35)"
   ]
  },
  {
   "cell_type": "code",
   "execution_count": 12,
   "id": "celtic-statistics",
   "metadata": {
    "deletable": false,
    "editable": false,
    "nbgrader": {
     "cell_type": "code",
     "checksum": "9eb20fe315e887c98c9c0d5d8b17ff51",
     "grade": true,
     "grade_id": "testfizzbuzz",
     "locked": true,
     "points": 4,
     "schema_version": 3,
     "solution": false,
     "task": false
    }
   },
   "outputs": [
    {
     "ename": "",
     "evalue": "",
     "output_type": "error",
     "traceback": [
      "\u001b[31mjava.lang.AssertionError: assertion failed: \u001b[39m\n  scala.Predef$.assert(\u001b[32mPredef.scala\u001b[39m:\u001b[32m279\u001b[39m)\n  chisel3.assert$.apply(\u001b[32mVerificationStatement.scala\u001b[39m:\u001b[32m104\u001b[39m)\n  ammonite.$sess.cmd11$Helper.<init>(\u001b[32mcmd11.sc\u001b[39m:\u001b[32m2\u001b[39m)\n  ammonite.$sess.cmd11$.<clinit>(\u001b[32mcmd11.sc\u001b[39m:\u001b[32m7\u001b[39m)"
     ]
    }
   ],
   "source": [
    "assert(fizzbuzz(2) == (0, 0, 0))\n",
    "assert(fizzbuzz(20) == (48, 15, 15))\n",
    "assert(fizzbuzz(35) == (153, 60, 45))\n"
   ]
  },
  {
   "cell_type": "markdown",
   "id": "announced-triangle",
   "metadata": {
    "deletable": false,
    "editable": false,
    "nbgrader": {
     "cell_type": "markdown",
     "checksum": "b01d682c5a42855b41635303e9971ffc",
     "grade": false,
     "grade_id": "chiselvec-header",
     "locked": true,
     "schema_version": 3,
     "solution": false,
     "task": false
    }
   },
   "source": [
    "## Problem 4 (3 pts) - Using a Vec to Implement a Lookup Table\n",
    "> Vecs allow us to dynamically index into a Chisel collection during operation in the generated hardware.\n",
    "\n",
    "> In the problem, we use a Vec to implement a _lookup table_, which is a read-only memory (ROM) that holds precomputed results. The `SquareTable` module we provide below produces the result of squaring its input. However, the generated hardware contains only the lookup table because the multiplication is done at generation time. As a first implementation, we hardcode the IO widths and table size.\n",
    "\n",
    "> Fill in the tester `testSquareTable` to exhaustively test all of `SquareTable`'s inputs (hint: there are 32)."
   ]
  },
  {
   "cell_type": "code",
   "execution_count": 18,
   "id": "random-marijuana",
   "metadata": {
    "deletable": false,
    "editable": false,
    "nbgrader": {
     "cell_type": "code",
     "checksum": "28ca7fe070b10993fa85049d8ad2744c",
     "grade": false,
     "grade_id": "ROM",
     "locked": true,
     "schema_version": 3,
     "solution": false,
     "task": false
    }
   },
   "outputs": [
    {
     "data": {
      "text/plain": [
       "defined \u001b[32mclass\u001b[39m \u001b[36mSquareTable\u001b[39m"
      ]
     },
     "execution_count": 18,
     "metadata": {},
     "output_type": "execute_result"
    }
   ],
   "source": [
    "class SquareTable extends Module {\n",
    "    val io = IO(new Bundle {\n",
    "        val x = Input(UInt(5.W))\n",
    "        val xSquared = Output(UInt(10.W))\n",
    "    })\n",
    "    // 0.U, 1.U, ..., 31.U\n",
    "    val romData = Seq.tabulate(32)(i => (i*i).U(10.W))\n",
    "    show(s\"romData: $romData\")\n",
    "\n",
    "    val ROM: Vec[UInt] = VecInit(romData)\n",
    "    io.xSquared := ROM(io.x)\n",
    "}"
   ]
  },
  {
   "cell_type": "code",
   "execution_count": 23,
   "id": "based-aggregate",
   "metadata": {
    "deletable": false,
    "nbgrader": {
     "cell_type": "code",
     "checksum": "75715438818a3b598c1d7f42497b05dd",
     "grade": false,
     "grade_id": "testROM",
     "locked": false,
     "schema_version": 3,
     "solution": true,
     "task": false
    }
   },
   "outputs": [
    {
     "data": {
      "text/plain": [
       "defined \u001b[32mfunction\u001b[39m \u001b[36mtestSquareTable\u001b[39m"
      ]
     },
     "execution_count": 23,
     "metadata": {},
     "output_type": "execute_result"
    }
   ],
   "source": [
    "def testSquareTable: Boolean = {\n",
    "    test(new SquareTable) { dut =>\n",
    "        \n",
    "        // YOUR CODE HERE\n",
    "        for(i <- 0 to 31) {\n",
    "            dut.io.x.poke(i)\n",
    "            dut.io.xSquared.expect(i * i)\n",
    "        }\n",
    "    }\n",
    "    true\n",
    "}"
   ]
  },
  {
   "cell_type": "code",
   "execution_count": 24,
   "id": "czech-payday",
   "metadata": {
    "deletable": false,
    "editable": false,
    "nbgrader": {
     "cell_type": "code",
     "checksum": "de9968b4e7f062892ebd28ae6a534be6",
     "grade": true,
     "grade_id": "test-testROM",
     "locked": true,
     "points": 3,
     "schema_version": 3,
     "solution": false,
     "task": false
    }
   },
   "outputs": [
    {
     "name": "stdout",
     "output_type": "stream",
     "text": [
      "\u001b[32m\"romData: List(UInt<10>(0), UInt<10>(1), UInt<10>(4), UInt<10>(9), UInt<10>(16), UInt<10>(25), UInt<10>(36), UInt<10>(49), UInt<10>(64), UInt<10>(81), UInt<10>(100), UInt<10>(121), UInt<10>(144), UInt<10>(169), UInt<10>(196), UInt<10>(225), UInt<10>(256), UInt<10>(289), UInt<10>(324), UInt<10>(361), UInt<10>(400), UInt<10>(441), UInt<10>(484), UInt<10>(529), UInt<10>(576), UInt<10>(625), UInt<10>(676), UInt<10>(729), UInt<10>(784), UInt<10>(841), UInt<10>(900), UInt<10>(961))\"\u001b[39m\n"
     ]
    }
   ],
   "source": [
    "assert(testSquareTable)"
   ]
  },
  {
   "cell_type": "markdown",
   "id": "designed-stevens",
   "metadata": {
    "deletable": false,
    "editable": false,
    "nbgrader": {
     "cell_type": "markdown",
     "checksum": "3bff608cf0108fe2bd757b08c5c9f4ed",
     "grade": false,
     "grade_id": "chiselvec2-header",
     "locked": true,
     "schema_version": 3,
     "solution": false,
     "task": false
    }
   },
   "source": [
    "## Problem 5 (5 pts) - Parameterizing SquareTable\n",
    "In this problem, we will revise the module `SquareTable` from the previous problem to make the number of entries parameterized. First, ensure your tester `testSquareTable` is complete and correct first because it will help you with this problem too. Write a `SquareTable2` module below that takes a Scala Int `nEntries` as a parameter. `SquareTable2` will generate a lookup table (read-only UInts stored as a `Vec`) of nEntries entries. The output `xSquared` should be the result of squaring the input `x`. The table will support inputs from 0 to nEntries-1 (inclusive). Ensure the widths are correct, namely that x is wide enough to handle all inputs (hint: consider log2Ceil), and xSquared is sufficiently wide to not loose any data. `SquareTable2` behaves the same as `SquareTable`, except its size is a configurable parameter. You will also need to revise your tester (create `testSquareTable2`) so it is parameterized too."
   ]
  },
  {
   "cell_type": "code",
   "execution_count": 26,
   "id": "occasional-generic",
   "metadata": {
    "deletable": false,
    "nbgrader": {
     "cell_type": "code",
     "checksum": "e590d7da3f90a4b47be66c70621f8dda",
     "grade": false,
     "grade_id": "Rom2",
     "locked": false,
     "schema_version": 3,
     "solution": true,
     "task": false
    }
   },
   "outputs": [
    {
     "data": {
      "text/plain": [
       "defined \u001b[32mclass\u001b[39m \u001b[36mSquareTable2\u001b[39m"
      ]
     },
     "execution_count": 26,
     "metadata": {},
     "output_type": "execute_result"
    }
   ],
   "source": [
    "// YOUR CODE HERE\n",
    "class SquareTable2(nEntries: Int) extends Module {\n",
    "    val io = IO(new Bundle{\n",
    "        val x = Input(UInt(log2Ceil(nEntries + 1).W))\n",
    "        val xSquared = Output(UInt((log2Ceil(nEntries + 1) * 2).W))\n",
    "    })\n",
    "    // 0.U, 1.U, ..., (nEntries - 1).U\n",
    "    val romData = Seq.tabulate(nEntries + 1)(i => (i*i).U((log2Ceil(nEntries + 1) * 2).W))\n",
    "    show(s\"romData: $romData\")\n",
    "\n",
    "    val ROM: Vec[UInt] = VecInit(romData)\n",
    "    io.xSquared := ROM(io.x)\n",
    "}"
   ]
  },
  {
   "cell_type": "code",
   "execution_count": 29,
   "id": "recorded-caribbean",
   "metadata": {
    "deletable": false,
    "nbgrader": {
     "cell_type": "code",
     "checksum": "60c4afa0dfba3ad4f48943cd110a8aef",
     "grade": false,
     "grade_id": "testRom2",
     "locked": false,
     "schema_version": 3,
     "solution": true,
     "task": false
    }
   },
   "outputs": [
    {
     "data": {
      "text/plain": [
       "defined \u001b[32mfunction\u001b[39m \u001b[36mtestSquareTable2\u001b[39m"
      ]
     },
     "execution_count": 29,
     "metadata": {},
     "output_type": "execute_result"
    }
   ],
   "source": [
    "def testSquareTable2: Boolean = {\n",
    "    for (nEntries <- Seq(4, 5, 10, 30)) {\n",
    "        test(new SquareTable2(nEntries)) { dut =>\n",
    "\n",
    "            // YOUR CODE HERE\n",
    "            for(i <- 0 to nEntries) {\n",
    "                dut.io.x.poke(i)\n",
    "                dut.io.xSquared.expect(i * i)\n",
    "            }\n",
    "        }\n",
    "    }\n",
    "    true\n",
    "}"
   ]
  },
  {
   "cell_type": "code",
   "execution_count": 30,
   "id": "dried-problem",
   "metadata": {
    "deletable": false,
    "editable": false,
    "nbgrader": {
     "cell_type": "code",
     "checksum": "e019d97a4c30465af9e67ad55ea191c1",
     "grade": true,
     "grade_id": "test-testRom2",
     "locked": true,
     "points": 5,
     "schema_version": 3,
     "solution": false,
     "task": false
    }
   },
   "outputs": [
    {
     "name": "stdout",
     "output_type": "stream",
     "text": [
      "\u001b[32m\"romData: List(UInt<6>(0), UInt<6>(1), UInt<6>(4), UInt<6>(9), UInt<6>(16))\"\u001b[39m\n",
      "\u001b[32m\"romData: List(UInt<6>(0), UInt<6>(1), UInt<6>(4), UInt<6>(9), UInt<6>(16), UInt<6>(25))\"\u001b[39m\n",
      "\u001b[32m\"romData: List(UInt<8>(0), UInt<8>(1), UInt<8>(4), UInt<8>(9), UInt<8>(16), UInt<8>(25), UInt<8>(36), UInt<8>(49), UInt<8>(64), UInt<8>(81), UInt<8>(100))\"\u001b[39m\n",
      "\u001b[32m\"romData: List(UInt<10>(0), UInt<10>(1), UInt<10>(4), UInt<10>(9), UInt<10>(16), UInt<10>(25), UInt<10>(36), UInt<10>(49), UInt<10>(64), UInt<10>(81), UInt<10>(100), UInt<10>(121), UInt<10>(144), UInt<10>(169), UInt<10>(196), UInt<10>(225), UInt<10>(256), UInt<10>(289), UInt<10>(324), UInt<10>(361), UInt<10>(400), UInt<10>(441), UInt<10>(484), UInt<10>(529), UInt<10>(576), UInt<10>(625), UInt<10>(676), UInt<10>(729), UInt<10>(784), UInt<10>(841), UInt<10>(900))\"\u001b[39m\n"
     ]
    }
   ],
   "source": [
    "assert(testSquareTable2)\n"
   ]
  },
  {
   "cell_type": "markdown",
   "id": "whole-outside",
   "metadata": {
    "deletable": false,
    "editable": false,
    "nbgrader": {
     "cell_type": "markdown",
     "checksum": "ef4decaa41cf83e2bf24348747bd69ab",
     "grade": false,
     "grade_id": "scalafunc-header",
     "locked": true,
     "schema_version": 3,
     "solution": false,
     "task": false
    }
   },
   "source": [
    "## Problem 6 (2 pts) - Scala functions\n",
    "> We can write Chisel logic within a Scala function and use them within our modules.\n",
    "\n",
    "> Write a Scala function named `sum` that takes two UInts as arguments and returns the sum (with width growth). You might find the [Chisel Cheat Sheet](https://github.com/freechipsproject/chisel-cheatsheet/releases/latest/download/chisel_cheatsheet.pdf) a helpful reference."
   ]
  },
  {
   "cell_type": "code",
   "execution_count": 34,
   "id": "alike-contribution",
   "metadata": {
    "deletable": false,
    "nbgrader": {
     "cell_type": "code",
     "checksum": "6c992528fce61fcdf10291ca6b6592af",
     "grade": false,
     "grade_id": "ScalaCondPractice",
     "locked": false,
     "schema_version": 3,
     "solution": true,
     "task": false
    }
   },
   "outputs": [
    {
     "data": {
      "text/plain": [
       "\u001b[32mimport \u001b[39m\u001b[36mscala.math._\n",
       "\n",
       "\u001b[39m\n",
       "defined \u001b[32mfunction\u001b[39m \u001b[36msum\u001b[39m"
      ]
     },
     "execution_count": 34,
     "metadata": {},
     "output_type": "execute_result"
    }
   ],
   "source": [
    "// YOUR CODE HERE\n",
    "import scala.math._\n",
    "\n",
    "def sum(a: UInt, b: UInt): UInt = {\n",
    "  // Determine the maximum width of the two inputs\n",
    "  val maxWidth = max(a.getWidth, b.getWidth)\n",
    "  \n",
    "  // Create new UInts with the maximum width, zero-extended if necessary\n",
    "  val aExtended = a.asTypeOf(UInt(maxWidth.W))\n",
    "  val bExtended = b.asTypeOf(UInt(maxWidth.W))\n",
    "  \n",
    "  // Calculate the sum with an extra bit for potential carry\n",
    "  val sum = aExtended +& bExtended\n",
    "  \n",
    "  // Return the sum\n",
    "  sum\n",
    "}"
   ]
  },
  {
   "cell_type": "code",
   "execution_count": 35,
   "id": "liquid-monster",
   "metadata": {
    "deletable": false,
    "editable": false,
    "nbgrader": {
     "cell_type": "code",
     "checksum": "b95cc90c550f2ca608e9769af5fc9471",
     "grade": true,
     "grade_id": "testSum",
     "locked": true,
     "points": 2,
     "schema_version": 3,
     "solution": false,
     "task": false
    }
   },
   "outputs": [
    {
     "data": {
      "text/plain": [
       "defined \u001b[32mfunction\u001b[39m \u001b[36mtestSum\u001b[39m"
      ]
     },
     "execution_count": 35,
     "metadata": {},
     "output_type": "execute_result"
    }
   ],
   "source": [
    "def testSum(): Boolean = {\n",
    "    test(new Module {\n",
    "            val io = IO(new Bundle {\n",
    "                val in1 = Input(UInt(4.W))\n",
    "                val in2 = Input(UInt(4.W))\n",
    "                val out = Output(UInt())\n",
    "            })\n",
    "            io.out := sum(io.in1, io.in2)\n",
    "        }) { dut => \n",
    "            for (in1 <- 0 until 16) {\n",
    "                for (in2 <- 0 until 16) {\n",
    "                    dut.io.in1.poke(in1.U)\n",
    "                    dut.io.in2.poke(in2.U)\n",
    "                    dut.io.out.expect((in1 + in2).U)\n",
    "                }\n",
    "            }\n",
    "    }\n",
    "    true\n",
    "}\n",
    "\n",
    "assert(testSum)"
   ]
  },
  {
   "cell_type": "markdown",
   "id": "lesbian-corner",
   "metadata": {
    "deletable": false,
    "editable": false,
    "nbgrader": {
     "cell_type": "markdown",
     "checksum": "512808e707558299cef53ca6e431030b",
     "grade": false,
     "grade_id": "histo-header",
     "locked": true,
     "schema_version": 3,
     "solution": false,
     "task": false
    }
   },
   "source": [
    "## Problem 7 (6 pts) - Histogram\n",
    "Let's put Regs and Vecs together to build a `Histogram` generator. The generated hardware will count how often it sees each input. It will take a parameter `n`, and internally it will use `n` registers to count how often it has seen inputs (from 0 to n-1). Each cycle, the `x` input chooses which internal register to increment. The `out` output should provide the new total value that will be written into the register the next cycle. In other words, `out` immediately shows new value of the count associated with `x`."
   ]
  },
  {
   "cell_type": "code",
   "execution_count": 41,
   "id": "stuffed-fighter",
   "metadata": {
    "deletable": false,
    "nbgrader": {
     "cell_type": "code",
     "checksum": "7658b82bd0c394a3b6643c9c6b8b4692",
     "grade": false,
     "grade_id": "Histogram",
     "locked": false,
     "schema_version": 3,
     "solution": true,
     "task": false
    }
   },
   "outputs": [
    {
     "data": {
      "text/plain": [
       "defined \u001b[32mclass\u001b[39m \u001b[36mHistogram\u001b[39m"
      ]
     },
     "execution_count": 41,
     "metadata": {},
     "output_type": "execute_result"
    }
   ],
   "source": [
    "class Histogram(n: Int) extends Module {\n",
    "    val io = IO(new Bundle {\n",
    "        val x = Input(UInt(log2Ceil(n).W))\n",
    "        val out = Output(UInt(5.W))\n",
    "    })\n",
    "    // YOUR CODE HERE\n",
    "    \n",
    "    // Create an array of n registers, each 5 bits wide\n",
    "    val counts = RegInit(VecInit(Seq.fill(n)(0.U(5.W))))\n",
    "\n",
    "    // Increment the register corresponding to the input x\n",
    "    val nextCount = counts(io.x) + 1.U\n",
    "    counts(io.x) := nextCount\n",
    "\n",
    "    // Output the next count value\n",
    "    io.out := nextCount\n",
    "}"
   ]
  },
  {
   "cell_type": "code",
   "execution_count": 42,
   "id": "center-ceiling",
   "metadata": {
    "deletable": false,
    "editable": false,
    "nbgrader": {
     "cell_type": "code",
     "checksum": "4f5f07b81bbe8ca0034ed7b8d03602a2",
     "grade": true,
     "grade_id": "test-histogram",
     "locked": true,
     "points": 6,
     "schema_version": 3,
     "solution": false,
     "task": false
    }
   },
   "outputs": [
    {
     "data": {
      "text/plain": [
       "defined \u001b[32mfunction\u001b[39m \u001b[36mtestHistogram\u001b[39m"
      ]
     },
     "execution_count": 42,
     "metadata": {},
     "output_type": "execute_result"
    }
   ],
   "source": [
    "def testHistogram: Boolean = {\n",
    "    test(new Histogram(3)) { dut =>\n",
    "        // Cycle0\n",
    "        dut.io.x.poke(1.U)\n",
    "        dut.io.out.expect(1.U)\n",
    "        dut.clock.step(1)\n",
    "\n",
    "        // Cycle1\n",
    "        dut.io.x.poke(1.U)\n",
    "        dut.io.out.expect(2.U)\n",
    "        dut.clock.step(1)\n",
    "\n",
    "        dut.io.x.poke(0.U)\n",
    "        dut.io.out.expect(1.U)\n",
    "        dut.clock.step(1)\n",
    "\n",
    "        // Cycle 3\n",
    "        dut.io.x.poke(2.U)\n",
    "        dut.io.out.expect(1.U)\n",
    "    }\n",
    "    true\n",
    "}\n",
    "assert(testHistogram)"
   ]
  }
 ],
 "metadata": {
  "kernelspec": {
   "display_name": "Scala",
   "language": "scala",
   "name": "scala"
  },
  "language_info": {
   "codemirror_mode": "text/x-scala",
   "file_extension": ".sc",
   "mimetype": "text/x-scala",
   "name": "scala",
   "nbconvert_exporter": "script",
   "version": "2.13.10"
  }
 },
 "nbformat": 4,
 "nbformat_minor": 5
}
